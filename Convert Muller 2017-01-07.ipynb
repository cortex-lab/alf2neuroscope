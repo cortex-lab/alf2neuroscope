{
 "cells": [
  {
   "cell_type": "code",
   "execution_count": null,
   "metadata": {},
   "outputs": [],
   "source": [
    "%run alf2neuroscope.py"
   ]
  },
  {
   "cell_type": "code",
   "execution_count": null,
   "metadata": {
    "scrolled": true
   },
   "outputs": [],
   "source": [
    "convert(r'\\\\basket.cortexlab.net\\data\\kenneth\\ephys\\Muller\\2017-01-07', r'\\\\zserver\\Data\\Subjects\\Muller\\2017-01-07\\alf', 1250, 0, [2,3])"
   ]
  },
  {
   "cell_type": "code",
   "execution_count": null,
   "metadata": {
    "collapsed": true
   },
   "outputs": [],
   "source": [
    "%debug"
   ]
  },
  {
   "cell_type": "code",
   "execution_count": null,
   "metadata": {
    "collapsed": true
   },
   "outputs": [],
   "source": [
    "sc = np.load(r'\\\\zserver.cortexlab.net\\Data\\Subjects\\Muller\\2017-01-07\\alf\\V1\\spikes.clusters.npy')\n",
    "cd = np.load(r'\\\\zserver.cortexlab.net\\Data\\Subjects\\Muller\\2017-01-07\\alf\\V1\\clusters.depths.npy')\n",
    "sd = np.load(r'\\\\zserver.cortexlab.net\\Data\\Subjects\\Muller\\2017-01-07\\alf\\V1\\spikes.depths.npy')\n",
    "ci = np.load(r'\\\\zserver.cortexlab.net\\Data\\Subjects\\Muller\\2017-01-07\\alf\\V1\\clusters.ids.npy')\n",
    "cg = np.load(r'\\\\zserver.cortexlab.net\\Data\\Subjects\\Muller\\2017-01-07\\alf\\V1\\clusters.groups.npy')"
   ]
  },
  {
   "cell_type": "code",
   "execution_count": null,
   "metadata": {
    "collapsed": true
   },
   "outputs": [],
   "source": [
    "len(cg.flatten())"
   ]
  },
  {
   "cell_type": "code",
   "execution_count": null,
   "metadata": {
    "collapsed": true
   },
   "outputs": [],
   "source": [
    "sc.max()"
   ]
  },
  {
   "cell_type": "code",
   "execution_count": null,
   "metadata": {
    "collapsed": true
   },
   "outputs": [],
   "source": [
    "u_clus[:100]"
   ]
  },
  {
   "cell_type": "code",
   "execution_count": null,
   "metadata": {
    "collapsed": true
   },
   "outputs": [],
   "source": [
    "np.unique([1,4,2,5,1,1])"
   ]
  },
  {
   "cell_type": "code",
   "execution_count": null,
   "metadata": {
    "collapsed": true
   },
   "outputs": [],
   "source": [
    "convert"
   ]
  },
  {
   "cell_type": "code",
   "execution_count": null,
   "metadata": {
    "collapsed": true
   },
   "outputs": [],
   "source": [
    "isinstance(r'//z/d', str)\n"
   ]
  },
  {
   "cell_type": "code",
   "execution_count": null,
   "metadata": {
    "collapsed": true
   },
   "outputs": [],
   "source": [
    "a = 'a'\n",
    "[a]"
   ]
  },
  {
   "cell_type": "code",
   "execution_count": null,
   "metadata": {
    "collapsed": true
   },
   "outputs": [],
   "source": []
  }
 ],
 "metadata": {
  "kernelspec": {
   "display_name": "Python 3",
   "language": "python",
   "name": "python3"
  },
  "language_info": {
   "codemirror_mode": {
    "name": "ipython",
    "version": 3
   },
   "file_extension": ".py",
   "mimetype": "text/x-python",
   "name": "python",
   "nbconvert_exporter": "python",
   "pygments_lexer": "ipython3",
   "version": "3.6.1"
  }
 },
 "nbformat": 4,
 "nbformat_minor": 2
}
