{
 "cells": [
  {
   "cell_type": "code",
   "execution_count": 6,
   "metadata": {},
   "outputs": [
    {
     "name": "stdout",
     "output_type": "stream",
     "text": [
      "directory: \\\\zserver.cortexlab.net\\Data\\Subjects\\Robbins\\2017-06-13\\alf\n",
      "directory: \\\\zserver.cortexlab.net\\Data\\Subjects\\Robbins\\2017-06-13\\alf\\K1\n",
      "directory: \\\\zserver.cortexlab.net\\Data\\Subjects\\Robbins\\2017-06-13\\alf\\K2\n",
      "directory: \\\\zserver.cortexlab.net\\Data\\Subjects\\Robbins\\2017-06-13\\alf\\K3\n",
      "directory: \\\\zserver.cortexlab.net\\Data\\Subjects\\Robbins\\2017-06-13\\alf\\ZNP1\n",
      "directory: \\\\zserver.cortexlab.net\\Data\\Subjects\\Robbins\\2017-06-13\\alf\\ZNP2\n",
      "directory: \\\\zserver.cortexlab.net\\Data\\Subjects\\Robbins\\2017-06-13\\alf\\ZNP3\n",
      "directory: \\\\zserver.cortexlab.net\\Data\\Subjects\\Robbins\\2017-06-13\\alf\\ZNP4\n",
      "directory: \\\\zserver.cortexlab.net\\Data\\Subjects\\Robbins\\2017-06-13\\alf\\ZO\n",
      "neuroscope.clu.0: \\\\zserver.cortexlab.net\\Data\\Subjects\\Robbins\\2017-06-13\\alf\\K1\n",
      "neuroscope.clu.1: \\\\zserver.cortexlab.net\\Data\\Subjects\\Robbins\\2017-06-13\\alf\\K2\n",
      "neuroscope.clu.2: \\\\zserver.cortexlab.net\\Data\\Subjects\\Robbins\\2017-06-13\\alf\\K3\n",
      "neuroscope.clu.3: \\\\zserver.cortexlab.net\\Data\\Subjects\\Robbins\\2017-06-13\\alf\\ZNP1\n",
      "neuroscope.clu.4: \\\\zserver.cortexlab.net\\Data\\Subjects\\Robbins\\2017-06-13\\alf\\ZNP2\n",
      "neuroscope.clu.5: \\\\zserver.cortexlab.net\\Data\\Subjects\\Robbins\\2017-06-13\\alf\\ZNP3\n",
      "neuroscope.clu.6: \\\\zserver.cortexlab.net\\Data\\Subjects\\Robbins\\2017-06-13\\alf\\ZNP4\n",
      "neuroscope.clu.7: \\\\zserver.cortexlab.net\\Data\\Subjects\\Robbins\\2017-06-13\\alf\\ZO\n",
      "reading \\\\zserver.cortexlab.net\\Data\\Subjects\\Robbins\\2017-06-13\\alf\\wheelMoves.intervals.npy\n",
      "reading \\\\zserver.cortexlab.net\\Data\\Subjects\\Robbins\\2017-06-13\\alf\\airPuffs.intervals.npy\n",
      "Loading timestamps...\n",
      "Channel 0: wheel.position\n",
      "Channel 1: wheel.velocity\n",
      "Channel 2: eye.xPosition\n",
      "Channel 3: eye.yPosition\n",
      "Channel 4: eye.area\n",
      "Channel 5: eye.blink\n",
      "6 channels total\n",
      "Done.\n"
     ]
    }
   ],
   "source": [
    "%run alf2neuroscope.py 1250 \\\\basket.cortexlab.net\\data\\kenneth\\ephys\\Robbins\\2017-06-13 \\\\zserver.cortexlab.net\\Data\\Subjects\\Robbins\\2017-06-13\\alf"
   ]
  },
  {
   "cell_type": "code",
   "execution_count": 5,
   "metadata": {},
   "outputs": [
    {
     "name": "stdout",
     "output_type": "stream",
     "text": [
      "> \u001b[1;32ma:\\dropbox\\dropbox (neuropixels)\\python\\alf2neuroscope\\alf2neuroscope.py\u001b[0m(155)\u001b[0;36mmain\u001b[1;34m()\u001b[0m\n",
      "\u001b[1;32m    153 \u001b[1;33m\u001b[1;33m\u001b[0m\u001b[0m\n",
      "\u001b[0m\u001b[1;32m    154 \u001b[1;33m    \u001b[1;31m# sample times in universal seconds\u001b[0m\u001b[1;33m\u001b[0m\u001b[1;33m\u001b[0m\u001b[0m\n",
      "\u001b[0m\u001b[1;32m--> 155 \u001b[1;33m    \u001b[0mt\u001b[0m \u001b[1;33m=\u001b[0m \u001b[0mnp\u001b[0m\u001b[1;33m.\u001b[0m\u001b[0marange\u001b[0m\u001b[1;33m(\u001b[0m\u001b[1;36m0\u001b[0m\u001b[1;33m,\u001b[0m\u001b[0mmax_t\u001b[0m\u001b[1;33m,\u001b[0m\u001b[0mdt\u001b[0m\u001b[1;33m)\u001b[0m\u001b[1;33m\u001b[0m\u001b[0m\n",
      "\u001b[0m\u001b[1;32m    156 \u001b[1;33m\u001b[1;33m\u001b[0m\u001b[0m\n",
      "\u001b[0m\u001b[1;32m    157 \u001b[1;33m    \u001b[0mch_file\u001b[0m \u001b[1;33m=\u001b[0m \u001b[0mopen\u001b[0m\u001b[1;33m(\u001b[0m\u001b[0mos\u001b[0m\u001b[1;33m.\u001b[0m\u001b[0mpath\u001b[0m\u001b[1;33m.\u001b[0m\u001b[0mjoin\u001b[0m\u001b[1;33m(\u001b[0m\u001b[0mtarget_dir\u001b[0m\u001b[1;33m,\u001b[0m \u001b[1;34m'dat_channel_list.txt'\u001b[0m\u001b[1;33m)\u001b[0m\u001b[1;33m,\u001b[0m \u001b[1;34m'w'\u001b[0m\u001b[1;33m)\u001b[0m\u001b[1;33m\u001b[0m\u001b[0m\n",
      "\u001b[0m\n",
      "ipdb> max_t\n",
      "-inf\n",
      "ipdb> spike_files\n",
      "[]\n",
      "ipdb> files\n",
      "[]\n",
      "ipdb> walkout\n",
      "[]\n",
      "ipdb> source_dirs\n",
      "['\\\\\\\\zserver\\\\Data\\\\expInfo\\\\Robbins\\\\2017-06-13\\\\alf']\n",
      "ipdb> q\n"
     ]
    }
   ],
   "source": [
    "%debug"
   ]
  },
  {
   "cell_type": "code",
   "execution_count": null,
   "metadata": {
    "collapsed": true
   },
   "outputs": [],
   "source": []
  }
 ],
 "metadata": {
  "kernelspec": {
   "display_name": "Python 3",
   "language": "python",
   "name": "python3"
  },
  "language_info": {
   "codemirror_mode": {
    "name": "ipython",
    "version": 3
   },
   "file_extension": ".py",
   "mimetype": "text/x-python",
   "name": "python",
   "nbconvert_exporter": "python",
   "pygments_lexer": "ipython3",
   "version": "3.6.1"
  }
 },
 "nbformat": 4,
 "nbformat_minor": 2
}
